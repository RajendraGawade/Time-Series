{
 "cells": [
  {
   "cell_type": "code",
   "execution_count": 1,
   "id": "76b8f596",
   "metadata": {},
   "outputs": [],
   "source": [
    "import numpy as np\n",
    "import pandas as pd\n",
    "import matplotlib.pyplot as plt\n",
    "import seaborn as sns \n",
    "\n",
    "import warnings\n",
    "warnings.filterwarnings('ignore')"
   ]
  },
  {
   "cell_type": "code",
   "execution_count": 2,
   "id": "a6c06e65",
   "metadata": {},
   "outputs": [],
   "source": [
    "df= pd.read_csv(r\"C:\\Users\\rajen\\Downloads\\archive (14)\\FertilizersProduct.csv\",encoding='latin1')"
   ]
  },
  {
   "cell_type": "code",
   "execution_count": 3,
   "id": "5b1a1432",
   "metadata": {},
   "outputs": [
    {
     "data": {
      "text/html": [
       "<div>\n",
       "<style scoped>\n",
       "    .dataframe tbody tr th:only-of-type {\n",
       "        vertical-align: middle;\n",
       "    }\n",
       "\n",
       "    .dataframe tbody tr th {\n",
       "        vertical-align: top;\n",
       "    }\n",
       "\n",
       "    .dataframe thead th {\n",
       "        text-align: right;\n",
       "    }\n",
       "</style>\n",
       "<table border=\"1\" class=\"dataframe\">\n",
       "  <thead>\n",
       "    <tr style=\"text-align: right;\">\n",
       "      <th></th>\n",
       "      <th>Area Code</th>\n",
       "      <th>Area</th>\n",
       "      <th>Item Code</th>\n",
       "      <th>Item</th>\n",
       "      <th>Element Code</th>\n",
       "      <th>Element</th>\n",
       "      <th>Year Code</th>\n",
       "      <th>Year</th>\n",
       "      <th>Unit</th>\n",
       "      <th>Value</th>\n",
       "      <th>Flag</th>\n",
       "    </tr>\n",
       "  </thead>\n",
       "  <tbody>\n",
       "    <tr>\n",
       "      <th>0</th>\n",
       "      <td>2</td>\n",
       "      <td>Afghanistan</td>\n",
       "      <td>4007</td>\n",
       "      <td>Ammonia, anhydrous</td>\n",
       "      <td>5610</td>\n",
       "      <td>Import Quantity</td>\n",
       "      <td>2011</td>\n",
       "      <td>2011</td>\n",
       "      <td>tonnes</td>\n",
       "      <td>4.49</td>\n",
       "      <td>R</td>\n",
       "    </tr>\n",
       "    <tr>\n",
       "      <th>1</th>\n",
       "      <td>2</td>\n",
       "      <td>Afghanistan</td>\n",
       "      <td>4007</td>\n",
       "      <td>Ammonia, anhydrous</td>\n",
       "      <td>5610</td>\n",
       "      <td>Import Quantity</td>\n",
       "      <td>2014</td>\n",
       "      <td>2014</td>\n",
       "      <td>tonnes</td>\n",
       "      <td>2.00</td>\n",
       "      <td>R</td>\n",
       "    </tr>\n",
       "    <tr>\n",
       "      <th>2</th>\n",
       "      <td>2</td>\n",
       "      <td>Afghanistan</td>\n",
       "      <td>4007</td>\n",
       "      <td>Ammonia, anhydrous</td>\n",
       "      <td>5610</td>\n",
       "      <td>Import Quantity</td>\n",
       "      <td>2017</td>\n",
       "      <td>2017</td>\n",
       "      <td>tonnes</td>\n",
       "      <td>2.07</td>\n",
       "      <td>R</td>\n",
       "    </tr>\n",
       "    <tr>\n",
       "      <th>3</th>\n",
       "      <td>2</td>\n",
       "      <td>Afghanistan</td>\n",
       "      <td>4007</td>\n",
       "      <td>Ammonia, anhydrous</td>\n",
       "      <td>5622</td>\n",
       "      <td>Import Value</td>\n",
       "      <td>2011</td>\n",
       "      <td>2011</td>\n",
       "      <td>1000 US$</td>\n",
       "      <td>2.69</td>\n",
       "      <td>R</td>\n",
       "    </tr>\n",
       "    <tr>\n",
       "      <th>4</th>\n",
       "      <td>2</td>\n",
       "      <td>Afghanistan</td>\n",
       "      <td>4007</td>\n",
       "      <td>Ammonia, anhydrous</td>\n",
       "      <td>5622</td>\n",
       "      <td>Import Value</td>\n",
       "      <td>2014</td>\n",
       "      <td>2014</td>\n",
       "      <td>1000 US$</td>\n",
       "      <td>1.07</td>\n",
       "      <td>R</td>\n",
       "    </tr>\n",
       "    <tr>\n",
       "      <th>...</th>\n",
       "      <td>...</td>\n",
       "      <td>...</td>\n",
       "      <td>...</td>\n",
       "      <td>...</td>\n",
       "      <td>...</td>\n",
       "      <td>...</td>\n",
       "      <td>...</td>\n",
       "      <td>...</td>\n",
       "      <td>...</td>\n",
       "      <td>...</td>\n",
       "      <td>...</td>\n",
       "    </tr>\n",
       "    <tr>\n",
       "      <th>164463</th>\n",
       "      <td>181</td>\n",
       "      <td>Zimbabwe</td>\n",
       "      <td>4006</td>\n",
       "      <td>Urea and ammonium nitrate solutions (UAN)</td>\n",
       "      <td>5157</td>\n",
       "      <td>Agricultural Use</td>\n",
       "      <td>2004</td>\n",
       "      <td>2004</td>\n",
       "      <td>tonnes</td>\n",
       "      <td>5.00</td>\n",
       "      <td>Fb</td>\n",
       "    </tr>\n",
       "    <tr>\n",
       "      <th>164464</th>\n",
       "      <td>181</td>\n",
       "      <td>Zimbabwe</td>\n",
       "      <td>4006</td>\n",
       "      <td>Urea and ammonium nitrate solutions (UAN)</td>\n",
       "      <td>5157</td>\n",
       "      <td>Agricultural Use</td>\n",
       "      <td>2008</td>\n",
       "      <td>2008</td>\n",
       "      <td>tonnes</td>\n",
       "      <td>2.13</td>\n",
       "      <td>Fb</td>\n",
       "    </tr>\n",
       "    <tr>\n",
       "      <th>164465</th>\n",
       "      <td>181</td>\n",
       "      <td>Zimbabwe</td>\n",
       "      <td>4006</td>\n",
       "      <td>Urea and ammonium nitrate solutions (UAN)</td>\n",
       "      <td>5157</td>\n",
       "      <td>Agricultural Use</td>\n",
       "      <td>2009</td>\n",
       "      <td>2009</td>\n",
       "      <td>tonnes</td>\n",
       "      <td>9.00</td>\n",
       "      <td>Fb</td>\n",
       "    </tr>\n",
       "    <tr>\n",
       "      <th>164466</th>\n",
       "      <td>181</td>\n",
       "      <td>Zimbabwe</td>\n",
       "      <td>4006</td>\n",
       "      <td>Urea and ammonium nitrate solutions (UAN)</td>\n",
       "      <td>5157</td>\n",
       "      <td>Agricultural Use</td>\n",
       "      <td>2010</td>\n",
       "      <td>2010</td>\n",
       "      <td>tonnes</td>\n",
       "      <td>4971.00</td>\n",
       "      <td>Fb</td>\n",
       "    </tr>\n",
       "    <tr>\n",
       "      <th>164467</th>\n",
       "      <td>181</td>\n",
       "      <td>Zimbabwe</td>\n",
       "      <td>4006</td>\n",
       "      <td>Urea and ammonium nitrate solutions (UAN)</td>\n",
       "      <td>5157</td>\n",
       "      <td>Agricultural Use</td>\n",
       "      <td>2011</td>\n",
       "      <td>2011</td>\n",
       "      <td>tonnes</td>\n",
       "      <td>7.00</td>\n",
       "      <td>Fb</td>\n",
       "    </tr>\n",
       "  </tbody>\n",
       "</table>\n",
       "<p>164468 rows × 11 columns</p>\n",
       "</div>"
      ],
      "text/plain": [
       "        Area Code         Area  Item Code  \\\n",
       "0               2  Afghanistan       4007   \n",
       "1               2  Afghanistan       4007   \n",
       "2               2  Afghanistan       4007   \n",
       "3               2  Afghanistan       4007   \n",
       "4               2  Afghanistan       4007   \n",
       "...           ...          ...        ...   \n",
       "164463        181     Zimbabwe       4006   \n",
       "164464        181     Zimbabwe       4006   \n",
       "164465        181     Zimbabwe       4006   \n",
       "164466        181     Zimbabwe       4006   \n",
       "164467        181     Zimbabwe       4006   \n",
       "\n",
       "                                             Item  Element Code  \\\n",
       "0                              Ammonia, anhydrous          5610   \n",
       "1                              Ammonia, anhydrous          5610   \n",
       "2                              Ammonia, anhydrous          5610   \n",
       "3                              Ammonia, anhydrous          5622   \n",
       "4                              Ammonia, anhydrous          5622   \n",
       "...                                           ...           ...   \n",
       "164463  Urea and ammonium nitrate solutions (UAN)          5157   \n",
       "164464  Urea and ammonium nitrate solutions (UAN)          5157   \n",
       "164465  Urea and ammonium nitrate solutions (UAN)          5157   \n",
       "164466  Urea and ammonium nitrate solutions (UAN)          5157   \n",
       "164467  Urea and ammonium nitrate solutions (UAN)          5157   \n",
       "\n",
       "                 Element  Year Code  Year      Unit    Value Flag  \n",
       "0        Import Quantity       2011  2011    tonnes     4.49    R  \n",
       "1        Import Quantity       2014  2014    tonnes     2.00    R  \n",
       "2        Import Quantity       2017  2017    tonnes     2.07    R  \n",
       "3           Import Value       2011  2011  1000 US$     2.69    R  \n",
       "4           Import Value       2014  2014  1000 US$     1.07    R  \n",
       "...                  ...        ...   ...       ...      ...  ...  \n",
       "164463  Agricultural Use       2004  2004    tonnes     5.00   Fb  \n",
       "164464  Agricultural Use       2008  2008    tonnes     2.13   Fb  \n",
       "164465  Agricultural Use       2009  2009    tonnes     9.00   Fb  \n",
       "164466  Agricultural Use       2010  2010    tonnes  4971.00   Fb  \n",
       "164467  Agricultural Use       2011  2011    tonnes     7.00   Fb  \n",
       "\n",
       "[164468 rows x 11 columns]"
      ]
     },
     "execution_count": 3,
     "metadata": {},
     "output_type": "execute_result"
    }
   ],
   "source": [
    "df"
   ]
  },
  {
   "cell_type": "code",
   "execution_count": 4,
   "id": "1bc45b44",
   "metadata": {},
   "outputs": [
    {
     "data": {
      "text/plain": [
       "Index(['Area Code', 'Area', 'Item Code', 'Item', 'Element Code', 'Element',\n",
       "       'Year Code', 'Year', 'Unit', 'Value', 'Flag'],\n",
       "      dtype='object')"
      ]
     },
     "execution_count": 4,
     "metadata": {},
     "output_type": "execute_result"
    }
   ],
   "source": [
    "df.columns"
   ]
  },
  {
   "cell_type": "code",
   "execution_count": 5,
   "id": "a104f84a",
   "metadata": {},
   "outputs": [
    {
     "data": {
      "text/plain": [
       "(164468, 11)"
      ]
     },
     "execution_count": 5,
     "metadata": {},
     "output_type": "execute_result"
    }
   ],
   "source": [
    "df.shape"
   ]
  },
  {
   "cell_type": "code",
   "execution_count": 6,
   "id": "2520b28a",
   "metadata": {},
   "outputs": [],
   "source": [
    "df=df.sample(n=10000)"
   ]
  },
  {
   "cell_type": "code",
   "execution_count": 7,
   "id": "1304c6a9",
   "metadata": {},
   "outputs": [
    {
     "data": {
      "text/plain": [
       "(10000, 11)"
      ]
     },
     "execution_count": 7,
     "metadata": {},
     "output_type": "execute_result"
    }
   ],
   "source": [
    "df.shape"
   ]
  },
  {
   "cell_type": "code",
   "execution_count": 8,
   "id": "2b760889",
   "metadata": {},
   "outputs": [
    {
     "data": {
      "text/html": [
       "<div>\n",
       "<style scoped>\n",
       "    .dataframe tbody tr th:only-of-type {\n",
       "        vertical-align: middle;\n",
       "    }\n",
       "\n",
       "    .dataframe tbody tr th {\n",
       "        vertical-align: top;\n",
       "    }\n",
       "\n",
       "    .dataframe thead th {\n",
       "        text-align: right;\n",
       "    }\n",
       "</style>\n",
       "<table border=\"1\" class=\"dataframe\">\n",
       "  <thead>\n",
       "    <tr style=\"text-align: right;\">\n",
       "      <th></th>\n",
       "      <th>Area Code</th>\n",
       "      <th>Item Code</th>\n",
       "      <th>Element Code</th>\n",
       "      <th>Year Code</th>\n",
       "      <th>Year</th>\n",
       "      <th>Value</th>\n",
       "    </tr>\n",
       "  </thead>\n",
       "  <tbody>\n",
       "    <tr>\n",
       "      <th>count</th>\n",
       "      <td>10000.00000</td>\n",
       "      <td>10000.000000</td>\n",
       "      <td>10000.000000</td>\n",
       "      <td>10000.000000</td>\n",
       "      <td>10000.000000</td>\n",
       "      <td>1.000000e+04</td>\n",
       "    </tr>\n",
       "    <tr>\n",
       "      <th>mean</th>\n",
       "      <td>128.78820</td>\n",
       "      <td>4014.340300</td>\n",
       "      <td>5661.405800</td>\n",
       "      <td>2009.834100</td>\n",
       "      <td>2009.834100</td>\n",
       "      <td>9.885005e+04</td>\n",
       "    </tr>\n",
       "    <tr>\n",
       "      <th>std</th>\n",
       "      <td>73.68878</td>\n",
       "      <td>9.011372</td>\n",
       "      <td>209.545459</td>\n",
       "      <td>4.546036</td>\n",
       "      <td>4.546036</td>\n",
       "      <td>6.769124e+05</td>\n",
       "    </tr>\n",
       "    <tr>\n",
       "      <th>min</th>\n",
       "      <td>1.00000</td>\n",
       "      <td>4001.000000</td>\n",
       "      <td>5157.000000</td>\n",
       "      <td>2002.000000</td>\n",
       "      <td>2002.000000</td>\n",
       "      <td>0.000000e+00</td>\n",
       "    </tr>\n",
       "    <tr>\n",
       "      <th>25%</th>\n",
       "      <td>66.00000</td>\n",
       "      <td>4006.000000</td>\n",
       "      <td>5610.000000</td>\n",
       "      <td>2006.000000</td>\n",
       "      <td>2006.000000</td>\n",
       "      <td>4.222500e+01</td>\n",
       "    </tr>\n",
       "    <tr>\n",
       "      <th>50%</th>\n",
       "      <td>126.00000</td>\n",
       "      <td>4016.000000</td>\n",
       "      <td>5622.000000</td>\n",
       "      <td>2010.000000</td>\n",
       "      <td>2010.000000</td>\n",
       "      <td>1.026295e+03</td>\n",
       "    </tr>\n",
       "    <tr>\n",
       "      <th>75%</th>\n",
       "      <td>195.00000</td>\n",
       "      <td>4022.000000</td>\n",
       "      <td>5910.000000</td>\n",
       "      <td>2014.000000</td>\n",
       "      <td>2014.000000</td>\n",
       "      <td>1.609446e+04</td>\n",
       "    </tr>\n",
       "    <tr>\n",
       "      <th>max</th>\n",
       "      <td>276.00000</td>\n",
       "      <td>4030.000000</td>\n",
       "      <td>5922.000000</td>\n",
       "      <td>2017.000000</td>\n",
       "      <td>2017.000000</td>\n",
       "      <td>2.989440e+07</td>\n",
       "    </tr>\n",
       "  </tbody>\n",
       "</table>\n",
       "</div>"
      ],
      "text/plain": [
       "         Area Code     Item Code  Element Code     Year Code          Year  \\\n",
       "count  10000.00000  10000.000000  10000.000000  10000.000000  10000.000000   \n",
       "mean     128.78820   4014.340300   5661.405800   2009.834100   2009.834100   \n",
       "std       73.68878      9.011372    209.545459      4.546036      4.546036   \n",
       "min        1.00000   4001.000000   5157.000000   2002.000000   2002.000000   \n",
       "25%       66.00000   4006.000000   5610.000000   2006.000000   2006.000000   \n",
       "50%      126.00000   4016.000000   5622.000000   2010.000000   2010.000000   \n",
       "75%      195.00000   4022.000000   5910.000000   2014.000000   2014.000000   \n",
       "max      276.00000   4030.000000   5922.000000   2017.000000   2017.000000   \n",
       "\n",
       "              Value  \n",
       "count  1.000000e+04  \n",
       "mean   9.885005e+04  \n",
       "std    6.769124e+05  \n",
       "min    0.000000e+00  \n",
       "25%    4.222500e+01  \n",
       "50%    1.026295e+03  \n",
       "75%    1.609446e+04  \n",
       "max    2.989440e+07  "
      ]
     },
     "execution_count": 8,
     "metadata": {},
     "output_type": "execute_result"
    }
   ],
   "source": [
    "df.describe()"
   ]
  },
  {
   "cell_type": "code",
   "execution_count": 9,
   "id": "e2417e22",
   "metadata": {},
   "outputs": [
    {
     "data": {
      "text/plain": [
       "<bound method NDFrame.describe of         Area Code             Area  Item Code  \\\n",
       "89534         131         Malaysia       4023   \n",
       "29754          41  China, mainland       4021   \n",
       "11093          14         Barbados       4030   \n",
       "94495         138           Mexico       4011   \n",
       "59661          84           Greece       4012   \n",
       "...           ...              ...        ...   \n",
       "110992        165         Pakistan       4001   \n",
       "54801          74            Gabon       4021   \n",
       "21184          27         Bulgaria       4002   \n",
       "41162         167          Czechia       4006   \n",
       "13033         255          Belgium       4002   \n",
       "\n",
       "                                             Item  Element Code  \\\n",
       "89534                Monoammonium phosphate (MAP)          5157   \n",
       "29754                             NPK fertilizers          5610   \n",
       "11093                          Fertilizers n.e.c.          5610   \n",
       "94495                              Phosphate rock          5610   \n",
       "59661                   Superphosphates above 35%          5610   \n",
       "...                                           ...           ...   \n",
       "110992                                       Urea          5622   \n",
       "54801                             NPK fertilizers          5622   \n",
       "21184                           Ammonium sulphate          5622   \n",
       "41162   Urea and ammonium nitrate solutions (UAN)          5922   \n",
       "13033                           Ammonium sulphate          5922   \n",
       "\n",
       "                 Element  Year Code  Year      Unit       Value Flag  \n",
       "89534   Agricultural Use       2007  2007    tonnes    22336.46   Fb  \n",
       "29754    Import Quantity       2002  2002    tonnes  2819652.02   Qm  \n",
       "11093    Import Quantity       2014  2014    tonnes     1047.47   Qm  \n",
       "94495    Import Quantity       2004  2004    tonnes   973784.80   Qm  \n",
       "59661    Import Quantity       2008  2008    tonnes    34284.12   Qm  \n",
       "...                  ...        ...   ...       ...         ...  ...  \n",
       "110992      Import Value       2004  2004  1000 US$       10.04   Qm  \n",
       "54801       Import Value       2007  2007  1000 US$      463.18    R  \n",
       "21184       Import Value       2002  2002  1000 US$       71.51   Qm  \n",
       "41162       Export Value       2006  2006  1000 US$     4124.72   Qm  \n",
       "13033       Export Value       2016  2016  1000 US$   268490.76   Qm  \n",
       "\n",
       "[10000 rows x 11 columns]>"
      ]
     },
     "execution_count": 9,
     "metadata": {},
     "output_type": "execute_result"
    }
   ],
   "source": [
    "df.describe"
   ]
  },
  {
   "cell_type": "code",
   "execution_count": 10,
   "id": "b4c373ed",
   "metadata": {},
   "outputs": [
    {
     "name": "stdout",
     "output_type": "stream",
     "text": [
      "<class 'pandas.core.frame.DataFrame'>\n",
      "Index: 10000 entries, 89534 to 13033\n",
      "Data columns (total 11 columns):\n",
      " #   Column        Non-Null Count  Dtype  \n",
      "---  ------        --------------  -----  \n",
      " 0   Area Code     10000 non-null  int64  \n",
      " 1   Area          10000 non-null  object \n",
      " 2   Item Code     10000 non-null  int64  \n",
      " 3   Item          10000 non-null  object \n",
      " 4   Element Code  10000 non-null  int64  \n",
      " 5   Element       10000 non-null  object \n",
      " 6   Year Code     10000 non-null  int64  \n",
      " 7   Year          10000 non-null  int64  \n",
      " 8   Unit          10000 non-null  object \n",
      " 9   Value         10000 non-null  float64\n",
      " 10  Flag          10000 non-null  object \n",
      "dtypes: float64(1), int64(5), object(5)\n",
      "memory usage: 937.5+ KB\n"
     ]
    }
   ],
   "source": [
    "df.info()"
   ]
  },
  {
   "cell_type": "code",
   "execution_count": 11,
   "id": "6522a2a9",
   "metadata": {},
   "outputs": [
    {
     "data": {
      "text/plain": [
       "Area Code       0\n",
       "Area            0\n",
       "Item Code       0\n",
       "Item            0\n",
       "Element Code    0\n",
       "Element         0\n",
       "Year Code       0\n",
       "Year            0\n",
       "Unit            0\n",
       "Value           0\n",
       "Flag            0\n",
       "dtype: int64"
      ]
     },
     "execution_count": 11,
     "metadata": {},
     "output_type": "execute_result"
    }
   ],
   "source": [
    "df.isna().sum()"
   ]
  },
  {
   "cell_type": "code",
   "execution_count": 12,
   "id": "b6f2c865",
   "metadata": {},
   "outputs": [
    {
     "data": {
      "text/plain": [
       "Area Code         int64\n",
       "Area             object\n",
       "Item Code         int64\n",
       "Item             object\n",
       "Element Code      int64\n",
       "Element          object\n",
       "Year Code         int64\n",
       "Year              int64\n",
       "Unit             object\n",
       "Value           float64\n",
       "Flag             object\n",
       "dtype: object"
      ]
     },
     "execution_count": 12,
     "metadata": {},
     "output_type": "execute_result"
    }
   ],
   "source": [
    "df.dtypes"
   ]
  },
  {
   "cell_type": "code",
   "execution_count": 13,
   "id": "b7b3d305",
   "metadata": {},
   "outputs": [],
   "source": [
    "df['Year']=pd.to_datetime(df['Year'])"
   ]
  },
  {
   "cell_type": "code",
   "execution_count": 14,
   "id": "a9e9ea9f",
   "metadata": {},
   "outputs": [
    {
     "data": {
      "text/plain": [
       "Area Code                int64\n",
       "Area                    object\n",
       "Item Code                int64\n",
       "Item                    object\n",
       "Element Code             int64\n",
       "Element                 object\n",
       "Year Code                int64\n",
       "Year            datetime64[ns]\n",
       "Unit                    object\n",
       "Value                  float64\n",
       "Flag                    object\n",
       "dtype: object"
      ]
     },
     "execution_count": 14,
     "metadata": {},
     "output_type": "execute_result"
    }
   ],
   "source": [
    "df.dtypes"
   ]
  },
  {
   "cell_type": "code",
   "execution_count": null,
   "id": "7ea7f1ea",
   "metadata": {},
   "outputs": [],
   "source": []
  },
  {
   "cell_type": "code",
   "execution_count": 15,
   "id": "b5827ea8",
   "metadata": {},
   "outputs": [
    {
     "data": {
      "text/plain": [
       "Area Code                int64\n",
       "Area                    object\n",
       "Item Code                int64\n",
       "Item                    object\n",
       "Element Code             int64\n",
       "Element                 object\n",
       "Year Code                int64\n",
       "Year            datetime64[ns]\n",
       "Unit                    object\n",
       "Value                  float64\n",
       "Flag                    object\n",
       "dtype: object"
      ]
     },
     "execution_count": 15,
     "metadata": {},
     "output_type": "execute_result"
    }
   ],
   "source": [
    "df.dtypes"
   ]
  },
  {
   "cell_type": "code",
   "execution_count": 16,
   "id": "d244abdb",
   "metadata": {},
   "outputs": [
    {
     "data": {
      "text/plain": [
       "<Axes: xlabel='Year', ylabel='Value'>"
      ]
     },
     "execution_count": 16,
     "metadata": {},
     "output_type": "execute_result"
    },
    {
     "data": {
      "image/png": "[encoded data removed]",
      "text/plain": [
       "<Figure size 640x480 with 1 Axes>"
      ]
     },
     "metadata": {},
     "output_type": "display_data"
    }
   ],
   "source": [
    "sns.lineplot(x='Year',y='Value', data=df)"
   ]
  },
  {
   "cell_type": "code",
   "execution_count": 17,
   "id": "ebbd17fa",
   "metadata": {},
   "outputs": [],
   "source": [
    "from statsmodels.tsa.stattools import adfuller\n",
    "from statsmodels.graphics.tsaplots import plot_acf, plot_pacf\n"
   ]
  },
  {
   "cell_type": "code",
   "execution_count": 18,
   "id": "924168e5",
   "metadata": {},
   "outputs": [
    {
     "name": "stdout",
     "output_type": "stream",
     "text": [
      "ADF Statistic: -68.937724\n",
      "p-value: 0.000000\n"
     ]
    }
   ],
   "source": [
    "adf=adfuller(df['Value'])\n",
    "print('ADF Statistic: %f' % adf[0])\n",
    "print('p-value: %f' % adf[1])"
   ]
  },
  {
   "cell_type": "code",
   "execution_count": 19,
   "id": "48101cda",
   "metadata": {},
   "outputs": [
    {
     "data": {
      "image/png": "[encoded data removed]",
      "text/plain": [
       "<Figure size 640x480 with 1 Axes>"
      ]
     },
     "execution_count": 19,
     "metadata": {},
     "output_type": "execute_result"
    },
    {
     "data": {
      "image/png": "[encoded data removed]",
      "text/plain": [
       "<Figure size 640x480 with 1 Axes>"
      ]
     },
     "metadata": {},
     "output_type": "display_data"
    }
   ],
   "source": [
    "plot_pacf(x=df['Value'],lags=10)"
   ]
  },
  {
   "cell_type": "code",
   "execution_count": 20,
   "id": "b56ead08",
   "metadata": {},
   "outputs": [
    {
     "data": {
      "image/png": "[encoded data removed]",
      "text/plain": [
       "<Figure size 640x480 with 1 Axes>"
      ]
     },
     "execution_count": 20,
     "metadata": {},
     "output_type": "execute_result"
    },
    {
     "data": {
      "image/png": "[encoded data removed]",
      "text/plain": [
       "<Figure size 640x480 with 1 Axes>"
      ]
     },
     "metadata": {},
     "output_type": "display_data"
    }
   ],
   "source": [
    "plot_acf(x=df['Value'])"
   ]
  },
  {
   "cell_type": "code",
   "execution_count": 21,
   "id": "6cbab24b",
   "metadata": {},
   "outputs": [],
   "source": [
    "import statsmodels.api as sm"
   ]
  },
  {
   "cell_type": "code",
   "execution_count": 22,
   "id": "05e13ea3",
   "metadata": {},
   "outputs": [
    {
     "name": "stderr",
     "output_type": "stream",
     "text": [
      "C:\\Users\\rajen\\anaconda3\\Lib\\site-packages\\statsmodels\\tsa\\base\\tsa_model.py:473: ValueWarning: An unsupported index was provided and will be ignored when e.g. forecasting.\n",
      "  self._init_dates(dates, freq)\n",
      "C:\\Users\\rajen\\anaconda3\\Lib\\site-packages\\statsmodels\\tsa\\base\\tsa_model.py:473: ValueWarning: An unsupported index was provided and will be ignored when e.g. forecasting.\n",
      "  self._init_dates(dates, freq)\n"
     ]
    }
   ],
   "source": [
    "sarima = sm.tsa.statespace.SARIMAX(df[\"Value\"], order=(1,1,1), seasonal_order=(1,1,1,12))\n",
    "results = sarima.fit()"
   ]
  },
  {
   "cell_type": "code",
   "execution_count": 23,
   "id": "312c8199",
   "metadata": {},
   "outputs": [
    {
     "data": {
      "text/html": [
       "<table class=\"simpletable\">\n",
       "<caption>SARIMAX Results</caption>\n",
       "<tr>\n",
       "  <th>Dep. Variable:</th>                <td>Value</td>             <th>  No. Observations:  </th>    <td>10000</td>   \n",
       "</tr>\n",
       "<tr>\n",
       "  <th>Model:</th>           <td>SARIMAX(1, 1, 1)x(1, 1, 1, 12)</td> <th>  Log Likelihood     </th> <td>-149707.336</td>\n",
       "</tr>\n",
       "<tr>\n",
       "  <th>Date:</th>                   <td>Fri, 22 Dec 2023</td>        <th>  AIC                </th> <td>299424.673</td> \n",
       "</tr>\n",
       "<tr>\n",
       "  <th>Time:</th>                       <td>17:44:00</td>            <th>  BIC                </th> <td>299460.718</td> \n",
       "</tr>\n",
       "<tr>\n",
       "  <th>Sample:</th>                         <td>0</td>               <th>  HQIC               </th> <td>299436.875</td> \n",
       "</tr>\n",
       "<tr>\n",
       "  <th></th>                            <td> - 10000</td>            <th>                     </th>      <td> </td>     \n",
       "</tr>\n",
       "<tr>\n",
       "  <th>Covariance Type:</th>               <td>opg</td>              <th>                     </th>      <td> </td>     \n",
       "</tr>\n",
       "</table>\n",
       "<table class=\"simpletable\">\n",
       "<tr>\n",
       "      <td></td>        <th>coef</th>     <th>std err</th>      <th>z</th>      <th>P>|z|</th>  <th>[0.025</th>    <th>0.975]</th>  \n",
       "</tr>\n",
       "<tr>\n",
       "  <th>ar.L1</th>    <td>   -0.0065</td> <td>    0.089</td> <td>   -0.073</td> <td> 0.942</td> <td>   -0.181</td> <td>    0.168</td>\n",
       "</tr>\n",
       "<tr>\n",
       "  <th>ma.L1</th>    <td>   -0.9973</td> <td>    0.004</td> <td> -233.161</td> <td> 0.000</td> <td>   -1.006</td> <td>   -0.989</td>\n",
       "</tr>\n",
       "<tr>\n",
       "  <th>ar.S.L12</th> <td>    0.0305</td> <td>    0.009</td> <td>    3.328</td> <td> 0.001</td> <td>    0.013</td> <td>    0.048</td>\n",
       "</tr>\n",
       "<tr>\n",
       "  <th>ma.S.L12</th> <td>   -0.9982</td> <td>    0.003</td> <td> -385.140</td> <td> 0.000</td> <td>   -1.003</td> <td>   -0.993</td>\n",
       "</tr>\n",
       "<tr>\n",
       "  <th>sigma2</th>   <td> 1.086e+12</td> <td> 1.67e-13</td> <td> 6.51e+24</td> <td> 0.000</td> <td> 1.09e+12</td> <td> 1.09e+12</td>\n",
       "</tr>\n",
       "</table>\n",
       "<table class=\"simpletable\">\n",
       "<tr>\n",
       "  <th>Ljung-Box (L1) (Q):</th>     <td>0.01</td> <th>  Jarque-Bera (JB):  </th> <td>165259439.84</td>\n",
       "</tr>\n",
       "<tr>\n",
       "  <th>Prob(Q):</th>                <td>0.94</td> <th>  Prob(JB):          </th>     <td>0.00</td>    \n",
       "</tr>\n",
       "<tr>\n",
       "  <th>Heteroskedasticity (H):</th> <td>0.86</td> <th>  Skew:              </th>     <td>20.14</td>   \n",
       "</tr>\n",
       "<tr>\n",
       "  <th>Prob(H) (two-sided):</th>    <td>0.00</td> <th>  Kurtosis:          </th>    <td>631.90</td>   \n",
       "</tr>\n",
       "</table><br/><br/>Warnings:<br/>[1] Covariance matrix calculated using the outer product of gradients (complex-step).<br/>[2] Covariance matrix is singular or near-singular, with condition number 1.85e+39. Standard errors may be unstable."
      ],
      "text/latex": [
       "\\begin{center}\n",
       "\\begin{tabular}{lclc}\n",
       "\\toprule\n",
       "\\textbf{Dep. Variable:}          &             Value              & \\textbf{  No. Observations:  } &    10000      \\\\\n",
       "\\textbf{Model:}                  & SARIMAX(1, 1, 1)x(1, 1, 1, 12) & \\textbf{  Log Likelihood     } & -149707.336   \\\\\n",
       "\\textbf{Date:}                   &        Fri, 22 Dec 2023        & \\textbf{  AIC                } &  299424.673   \\\\\n",
       "\\textbf{Time:}                   &            17:44:00            & \\textbf{  BIC                } &  299460.718   \\\\\n",
       "\\textbf{Sample:}                 &               0                & \\textbf{  HQIC               } &  299436.875   \\\\\n",
       "\\textbf{}                        &             - 10000            & \\textbf{                     } &               \\\\\n",
       "\\textbf{Covariance Type:}        &              opg               & \\textbf{                     } &               \\\\\n",
       "\\bottomrule\n",
       "\\end{tabular}\n",
       "\\begin{tabular}{lcccccc}\n",
       "                  & \\textbf{coef} & \\textbf{std err} & \\textbf{z} & \\textbf{P$> |$z$|$} & \\textbf{[0.025} & \\textbf{0.975]}  \\\\\n",
       "\\midrule\n",
       "\\textbf{ar.L1}    &      -0.0065  &        0.089     &    -0.073  &         0.942        &       -0.181    &        0.168     \\\\\n",
       "\\textbf{ma.L1}    &      -0.9973  &        0.004     &  -233.161  &         0.000        &       -1.006    &       -0.989     \\\\\n",
       "\\textbf{ar.S.L12} &       0.0305  &        0.009     &     3.328  &         0.001        &        0.013    &        0.048     \\\\\n",
       "\\textbf{ma.S.L12} &      -0.9982  &        0.003     &  -385.140  &         0.000        &       -1.003    &       -0.993     \\\\\n",
       "\\textbf{sigma2}   &    1.086e+12  &     1.67e-13     &  6.51e+24  &         0.000        &     1.09e+12    &     1.09e+12     \\\\\n",
       "\\bottomrule\n",
       "\\end{tabular}\n",
       "\\begin{tabular}{lclc}\n",
       "\\textbf{Ljung-Box (L1) (Q):}     & 0.01 & \\textbf{  Jarque-Bera (JB):  } & 165259439.84  \\\\\n",
       "\\textbf{Prob(Q):}                & 0.94 & \\textbf{  Prob(JB):          } &     0.00      \\\\\n",
       "\\textbf{Heteroskedasticity (H):} & 0.86 & \\textbf{  Skew:              } &    20.14      \\\\\n",
       "\\textbf{Prob(H) (two-sided):}    & 0.00 & \\textbf{  Kurtosis:          } &    631.90     \\\\\n",
       "\\bottomrule\n",
       "\\end{tabular}\n",
       "%\\caption{SARIMAX Results}\n",
       "\\end{center}\n",
       "\n",
       "Warnings: \\newline\n",
       " [1] Covariance matrix calculated using the outer product of gradients (complex-step). \\newline\n",
       " [2] Covariance matrix is singular or near-singular, with condition number 1.85e+39. Standard errors may be unstable."
      ],
      "text/plain": [
       "<class 'statsmodels.iolib.summary.Summary'>\n",
       "\"\"\"\n",
       "                                     SARIMAX Results                                      \n",
       "==========================================================================================\n",
       "Dep. Variable:                              Value   No. Observations:                10000\n",
       "Model:             SARIMAX(1, 1, 1)x(1, 1, 1, 12)   Log Likelihood             -149707.336\n",
       "Date:                            Fri, 22 Dec 2023   AIC                         299424.673\n",
       "Time:                                    17:44:00   BIC                         299460.718\n",
       "Sample:                                         0   HQIC                        299436.875\n",
       "                                          - 10000                                         \n",
       "Covariance Type:                              opg                                         \n",
       "==============================================================================\n",
       "                 coef    std err          z      P>|z|      [0.025      0.975]\n",
       "------------------------------------------------------------------------------\n",
       "ar.L1         -0.0065      0.089     -0.073      0.942      -0.181       0.168\n",
       "ma.L1         -0.9973      0.004   -233.161      0.000      -1.006      -0.989\n",
       "ar.S.L12       0.0305      0.009      3.328      0.001       0.013       0.048\n",
       "ma.S.L12      -0.9982      0.003   -385.140      0.000      -1.003      -0.993\n",
       "sigma2      1.086e+12   1.67e-13   6.51e+24      0.000    1.09e+12    1.09e+12\n",
       "===================================================================================\n",
       "Ljung-Box (L1) (Q):                   0.01   Jarque-Bera (JB):         165259439.84\n",
       "Prob(Q):                              0.94   Prob(JB):                         0.00\n",
       "Heteroskedasticity (H):               0.86   Skew:                            20.14\n",
       "Prob(H) (two-sided):                  0.00   Kurtosis:                       631.90\n",
       "===================================================================================\n",
       "\n",
       "Warnings:\n",
       "[1] Covariance matrix calculated using the outer product of gradients (complex-step).\n",
       "[2] Covariance matrix is singular or near-singular, with condition number 1.85e+39. Standard errors may be unstable.\n",
       "\"\"\""
      ]
     },
     "execution_count": 23,
     "metadata": {},
     "output_type": "execute_result"
    }
   ],
   "source": [
    "results.summary()"
   ]
  },
  {
   "cell_type": "code",
   "execution_count": 24,
   "id": "781995cf",
   "metadata": {},
   "outputs": [
    {
     "name": "stderr",
     "output_type": "stream",
     "text": [
      "C:\\Users\\rajen\\anaconda3\\Lib\\site-packages\\statsmodels\\tsa\\base\\tsa_model.py:473: ValueWarning: An unsupported index was provided and will be ignored when e.g. forecasting.\n",
      "  self._init_dates(dates, freq)\n",
      "C:\\Users\\rajen\\anaconda3\\Lib\\site-packages\\statsmodels\\tsa\\base\\tsa_model.py:473: ValueWarning: An unsupported index was provided and will be ignored when e.g. forecasting.\n",
      "  self._init_dates(dates, freq)\n"
     ]
    }
   ],
   "source": [
    "sarima = sm.tsa.statespace.SARIMAX(df[\"Value\"], order=(0,1,1), seasonal_order=(1,1,1,12))\n",
    "results = sarima.fit()"
   ]
  },
  {
   "cell_type": "code",
   "execution_count": 25,
   "id": "93684fb6",
   "metadata": {},
   "outputs": [
    {
     "data": {
      "text/html": [
       "<table class=\"simpletable\">\n",
       "<caption>SARIMAX Results</caption>\n",
       "<tr>\n",
       "  <th>Dep. Variable:</th>                <td>Value</td>             <th>  No. Observations:  </th>    <td>10000</td>   \n",
       "</tr>\n",
       "<tr>\n",
       "  <th>Model:</th>           <td>SARIMAX(0, 1, 1)x(1, 1, 1, 12)</td> <th>  Log Likelihood     </th> <td>-149711.415</td>\n",
       "</tr>\n",
       "<tr>\n",
       "  <th>Date:</th>                   <td>Fri, 22 Dec 2023</td>        <th>  AIC                </th> <td>299430.830</td> \n",
       "</tr>\n",
       "<tr>\n",
       "  <th>Time:</th>                       <td>18:03:05</td>            <th>  BIC                </th> <td>299459.666</td> \n",
       "</tr>\n",
       "<tr>\n",
       "  <th>Sample:</th>                         <td>0</td>               <th>  HQIC               </th> <td>299440.591</td> \n",
       "</tr>\n",
       "<tr>\n",
       "  <th></th>                            <td> - 10000</td>            <th>                     </th>      <td> </td>     \n",
       "</tr>\n",
       "<tr>\n",
       "  <th>Covariance Type:</th>               <td>opg</td>              <th>                     </th>      <td> </td>     \n",
       "</tr>\n",
       "</table>\n",
       "<table class=\"simpletable\">\n",
       "<tr>\n",
       "      <td></td>        <th>coef</th>     <th>std err</th>      <th>z</th>      <th>P>|z|</th>  <th>[0.025</th>    <th>0.975]</th>  \n",
       "</tr>\n",
       "<tr>\n",
       "  <th>ma.L1</th>    <td>   -0.9977</td> <td>    0.004</td> <td> -243.205</td> <td> 0.000</td> <td>   -1.006</td> <td>   -0.990</td>\n",
       "</tr>\n",
       "<tr>\n",
       "  <th>ar.S.L12</th> <td>    0.0314</td> <td>    0.009</td> <td>    3.439</td> <td> 0.001</td> <td>    0.014</td> <td>    0.049</td>\n",
       "</tr>\n",
       "<tr>\n",
       "  <th>ma.S.L12</th> <td>   -0.9972</td> <td>    0.003</td> <td> -333.441</td> <td> 0.000</td> <td>   -1.003</td> <td>   -0.991</td>\n",
       "</tr>\n",
       "<tr>\n",
       "  <th>sigma2</th>   <td> 1.088e+12</td> <td> 8.99e-15</td> <td> 1.21e+26</td> <td> 0.000</td> <td> 1.09e+12</td> <td> 1.09e+12</td>\n",
       "</tr>\n",
       "</table>\n",
       "<table class=\"simpletable\">\n",
       "<tr>\n",
       "  <th>Ljung-Box (L1) (Q):</th>     <td>0.53</td> <th>  Jarque-Bera (JB):  </th> <td>165262690.91</td>\n",
       "</tr>\n",
       "<tr>\n",
       "  <th>Prob(Q):</th>                <td>0.47</td> <th>  Prob(JB):          </th>     <td>0.00</td>    \n",
       "</tr>\n",
       "<tr>\n",
       "  <th>Heteroskedasticity (H):</th> <td>0.86</td> <th>  Skew:              </th>     <td>20.14</td>   \n",
       "</tr>\n",
       "<tr>\n",
       "  <th>Prob(H) (two-sided):</th>    <td>0.00</td> <th>  Kurtosis:          </th>    <td>631.91</td>   \n",
       "</tr>\n",
       "</table><br/><br/>Warnings:<br/>[1] Covariance matrix calculated using the outer product of gradients (complex-step).<br/>[2] Covariance matrix is singular or near-singular, with condition number 3.55e+40. Standard errors may be unstable."
      ],
      "text/latex": [
       "\\begin{center}\n",
       "\\begin{tabular}{lclc}\n",
       "\\toprule\n",
       "\\textbf{Dep. Variable:}          &             Value              & \\textbf{  No. Observations:  } &    10000      \\\\\n",
       "\\textbf{Model:}                  & SARIMAX(0, 1, 1)x(1, 1, 1, 12) & \\textbf{  Log Likelihood     } & -149711.415   \\\\\n",
       "\\textbf{Date:}                   &        Fri, 22 Dec 2023        & \\textbf{  AIC                } &  299430.830   \\\\\n",
       "\\textbf{Time:}                   &            18:03:05            & \\textbf{  BIC                } &  299459.666   \\\\\n",
       "\\textbf{Sample:}                 &               0                & \\textbf{  HQIC               } &  299440.591   \\\\\n",
       "\\textbf{}                        &             - 10000            & \\textbf{                     } &               \\\\\n",
       "\\textbf{Covariance Type:}        &              opg               & \\textbf{                     } &               \\\\\n",
       "\\bottomrule\n",
       "\\end{tabular}\n",
       "\\begin{tabular}{lcccccc}\n",
       "                  & \\textbf{coef} & \\textbf{std err} & \\textbf{z} & \\textbf{P$> |$z$|$} & \\textbf{[0.025} & \\textbf{0.975]}  \\\\\n",
       "\\midrule\n",
       "\\textbf{ma.L1}    &      -0.9977  &        0.004     &  -243.205  &         0.000        &       -1.006    &       -0.990     \\\\\n",
       "\\textbf{ar.S.L12} &       0.0314  &        0.009     &     3.439  &         0.001        &        0.014    &        0.049     \\\\\n",
       "\\textbf{ma.S.L12} &      -0.9972  &        0.003     &  -333.441  &         0.000        &       -1.003    &       -0.991     \\\\\n",
       "\\textbf{sigma2}   &    1.088e+12  &     8.99e-15     &  1.21e+26  &         0.000        &     1.09e+12    &     1.09e+12     \\\\\n",
       "\\bottomrule\n",
       "\\end{tabular}\n",
       "\\begin{tabular}{lclc}\n",
       "\\textbf{Ljung-Box (L1) (Q):}     & 0.53 & \\textbf{  Jarque-Bera (JB):  } & 165262690.91  \\\\\n",
       "\\textbf{Prob(Q):}                & 0.47 & \\textbf{  Prob(JB):          } &     0.00      \\\\\n",
       "\\textbf{Heteroskedasticity (H):} & 0.86 & \\textbf{  Skew:              } &    20.14      \\\\\n",
       "\\textbf{Prob(H) (two-sided):}    & 0.00 & \\textbf{  Kurtosis:          } &    631.91     \\\\\n",
       "\\bottomrule\n",
       "\\end{tabular}\n",
       "%\\caption{SARIMAX Results}\n",
       "\\end{center}\n",
       "\n",
       "Warnings: \\newline\n",
       " [1] Covariance matrix calculated using the outer product of gradients (complex-step). \\newline\n",
       " [2] Covariance matrix is singular or near-singular, with condition number 3.55e+40. Standard errors may be unstable."
      ],
      "text/plain": [
       "<class 'statsmodels.iolib.summary.Summary'>\n",
       "\"\"\"\n",
       "                                     SARIMAX Results                                      \n",
       "==========================================================================================\n",
       "Dep. Variable:                              Value   No. Observations:                10000\n",
       "Model:             SARIMAX(0, 1, 1)x(1, 1, 1, 12)   Log Likelihood             -149711.415\n",
       "Date:                            Fri, 22 Dec 2023   AIC                         299430.830\n",
       "Time:                                    18:03:05   BIC                         299459.666\n",
       "Sample:                                         0   HQIC                        299440.591\n",
       "                                          - 10000                                         \n",
       "Covariance Type:                              opg                                         \n",
       "==============================================================================\n",
       "                 coef    std err          z      P>|z|      [0.025      0.975]\n",
       "------------------------------------------------------------------------------\n",
       "ma.L1         -0.9977      0.004   -243.205      0.000      -1.006      -0.990\n",
       "ar.S.L12       0.0314      0.009      3.439      0.001       0.014       0.049\n",
       "ma.S.L12      -0.9972      0.003   -333.441      0.000      -1.003      -0.991\n",
       "sigma2      1.088e+12   8.99e-15   1.21e+26      0.000    1.09e+12    1.09e+12\n",
       "===================================================================================\n",
       "Ljung-Box (L1) (Q):                   0.53   Jarque-Bera (JB):         165262690.91\n",
       "Prob(Q):                              0.47   Prob(JB):                         0.00\n",
       "Heteroskedasticity (H):               0.86   Skew:                            20.14\n",
       "Prob(H) (two-sided):                  0.00   Kurtosis:                       631.91\n",
       "===================================================================================\n",
       "\n",
       "Warnings:\n",
       "[1] Covariance matrix calculated using the outer product of gradients (complex-step).\n",
       "[2] Covariance matrix is singular or near-singular, with condition number 3.55e+40. Standard errors may be unstable.\n",
       "\"\"\""
      ]
     },
     "execution_count": 25,
     "metadata": {},
     "output_type": "execute_result"
    }
   ],
   "source": [
    "results.summary()"
   ]
  },
  {
   "cell_type": "code",
   "execution_count": 26,
   "id": "228a78e1",
   "metadata": {},
   "outputs": [],
   "source": [
    "\n"
   ]
  },
  {
   "cell_type": "code",
   "execution_count": null,
   "id": "f3304c10",
   "metadata": {},
   "outputs": [],
   "source": []
  }
 ],
 "metadata": {
  "kernelspec": {
   "display_name": "Python 3 (ipykernel)",
   "language": "python",
   "name": "python3"
  },
  "language_info": {
   "codemirror_mode": {
    "name": "ipython",
    "version": 3
   },
   "file_extension": ".py",
   "mimetype": "text/x-python",
   "name": "python",
   "nbconvert_exporter": "python",
   "pygments_lexer": "ipython3",
   "version": "3.11.5"
  }
 },
 "nbformat": 4,
 "nbformat_minor": 5
}
